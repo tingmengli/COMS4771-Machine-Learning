{
 "cells": [
  {
   "cell_type": "code",
   "execution_count": 1,
   "metadata": {
    "collapsed": true
   },
   "outputs": [],
   "source": [
    "import scipy.io\n",
    "import numpy as np\n",
    "\n",
    "\n",
    "filename = './hw2data.mat'\n",
    "\n",
    "data = scipy.io.loadmat(filename)"
   ]
  },
  {
   "cell_type": "code",
   "execution_count": 2,
   "metadata": {
    "collapsed": true
   },
   "outputs": [],
   "source": [
    "def sigma(x):\n",
    "    return 1 / (1 + np.exp(-x))"
   ]
  },
  {
   "cell_type": "code",
   "execution_count": 3,
   "metadata": {
    "collapsed": true
   },
   "outputs": [],
   "source": [
    "def forward(W1, W2, b1, b2, x):\n",
    "    neuron = np.array([sigma(W1[i] * x + b1[i]) for i in range(len(W1))])\n",
    "    output = sigma(np.dot(W2, neuron) + b2)\n",
    "    return neuron, output"
   ]
  },
  {
   "cell_type": "code",
   "execution_count": 4,
   "metadata": {
    "collapsed": true
   },
   "outputs": [],
   "source": [
    "def get_loss(W1, W2, b1, b2):\n",
    "    neuron_array, output_array = [], []\n",
    "    for i in range(2000):\n",
    "        neuron, output = forward(W1, W2, b1, b2, data['X'][i][0])\n",
    "        output_array.append(output)\n",
    "    return 0.5 * np.mean([np.square(output_array[i] - data['Y'][i][0]) for i in range(2000)])"
   ]
  },
  {
   "cell_type": "code",
   "execution_count": 5,
   "metadata": {
    "collapsed": true
   },
   "outputs": [],
   "source": [
    "def update(W1, W2, b1, b2, enta):\n",
    "    \n",
    "    neuron_array, output_array = [], []\n",
    "    for i in range(2000):\n",
    "        neuron, output = forward(W1, W2, b1, b2, data['X'][i][0])\n",
    "        neuron_array.append(neuron)\n",
    "        output_array.append(output)\n",
    "    \n",
    "    dW2 = np.mean([(output_array[i] - data['Y'][i])  * output_array[i] * (1 - output_array[i]) * neuron_array[i] \n",
    "                   for i in range(2000)], axis = 0)\n",
    "    db2 = np.mean([(output_array[i] - data['Y'][i])  * output_array[i] * (1 - output_array[i]) \n",
    "                   for i in range(2000)], axis = 0)\n",
    "    dW1 = np.mean([(output_array[i] - data['Y'][i])  * output_array[i] * (1 - output_array[i]) * W2 * neuron_array[i] * (1 - neuron_array[i]) * data['X'][i] \n",
    "                   for i in range(2000)], axis = 0)\n",
    "    db1 = np.mean([(output_array[i] - data['Y'][i])  * output_array[i] * (1 - output_array[i]) * W2 * neuron_array[i] * (1 - neuron_array[i]) \n",
    "                   for i in range(2000)], axis = 0)\n",
    "    \n",
    "    W2_new, b2_new = W2 - enta * dW2, b2 - enta * db2\n",
    "    W1_new, b1_new = W1 - enta * dW1, b1 - enta * db1\n",
    "    \n",
    "    return W1_new, W2_new, b1_new, b2_new"
   ]
  },
  {
   "cell_type": "code",
   "execution_count": 6,
   "metadata": {
    "collapsed": true
   },
   "outputs": [],
   "source": [
    "k = 10\n",
    "W1 = np.random.random(k) \n",
    "W2 = np.random.random(k)\n",
    "b1 = np.random.random(k)\n",
    "b2 = np.random.random(1)"
   ]
  },
  {
   "cell_type": "code",
   "execution_count": 11,
   "metadata": {},
   "outputs": [],
   "source": [
    "loss = get_loss(W1, W2, b1, b2)\n",
    "W1_new, W2_new, b1_new, b2_new = update(W1, W2, b1, b2, 1)\n",
    "\n",
    "while get_loss(W1_new, W2_new, b1_new, b2_new) > 0.0001:\n",
    "    loss = get_loss(W1_new, W2_new, b1_new, b2_new)\n",
    "    W1, W2, b1, b2 = W1_new, W2_new, b1_new, b2_new\n",
    "    W1_new, W2_new, b1_new, b2_new = update(W1, W2, b1, b2, 5)\n",
    "    print (loss)"
   ]
  },
  {
   "cell_type": "markdown",
   "metadata": {},
   "source": [
    "Returns W1, W2, b1, b2 with loss no more than 0.0001."
   ]
  }
 ],
 "metadata": {
  "kernelspec": {
   "display_name": "Python 2",
   "language": "python",
   "name": "python2"
  },
  "language_info": {
   "codemirror_mode": {
    "name": "ipython",
    "version": 2
   },
   "file_extension": ".py",
   "mimetype": "text/x-python",
   "name": "python",
   "nbconvert_exporter": "python",
   "pygments_lexer": "ipython2",
   "version": "2.7.13"
  }
 },
 "nbformat": 4,
 "nbformat_minor": 2
}
